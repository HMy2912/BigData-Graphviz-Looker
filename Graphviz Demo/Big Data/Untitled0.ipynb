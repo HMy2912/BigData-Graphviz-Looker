{
  "cells": [
    {
      "cell_type": "code",
      "execution_count": 1,
      "metadata": {
        "colab": {
          "base_uri": "https://localhost:8080/"
        },
        "id": "WMVzjiTKQ5Zv",
        "outputId": "819c5cfc-6578-4ff6-f9c8-5d01dae4e12d"
      },
      "outputs": [
        {
          "output_type": "stream",
          "name": "stdout",
          "text": [
            "Authenticated\n"
          ]
        }
      ],
      "source": [
        "from google.colab import auth\n",
        "auth.authenticate_user()\n",
        "print('Authenticated')"
      ]
    },
    {
      "cell_type": "code",
      "execution_count": 2,
      "metadata": {
        "id": "9ETNMeSiVVnB"
      },
      "outputs": [],
      "source": [
        "import pandas_gbq\n",
        "import pandas as pd  # You'll likely still use pandas for DataFrame operations"
      ]
    },
    {
      "cell_type": "code",
      "execution_count": 3,
      "metadata": {
        "id": "1gaZYttyQ6lS"
      },
      "outputs": [],
      "source": [
        "from google.cloud import bigquery\n",
        "\n",
        "project_id = 'lookerstudio-seminar'  # Replace with your project ID\n",
        "client = bigquery.Client(project=project_id)"
      ]
    },
    {
      "cell_type": "code",
      "execution_count": 4,
      "metadata": {
        "colab": {
          "base_uri": "https://localhost:8080/"
        },
        "id": "JlI1KE2TRDad",
        "outputId": "3ba9eb03-033b-465f-f66b-f02f56f83396"
      },
      "outputs": [
        {
          "output_type": "stream",
          "name": "stdout",
          "text": [
            "Total rows: 31339341\n"
          ]
        }
      ],
      "source": [
        "# Running a query (using a magic command is also common in Colab)\n",
        "query = \"\"\"\n",
        "    SELECT COUNT(*) as total_rows\n",
        "    FROM `bigquery-public-data.iowa_liquor_sales.sales`\n",
        "\"\"\"\n",
        "query_job = client.query(query)\n",
        "results = query_job.result()\n",
        "for row in results:\n",
        "    print(f\"Total rows: {row.total_rows}\")\n",
        "\n",
        "# Alternatively, using the %%bigquery magic command in a cell:\n",
        "# %%bigquery --project your-gcp-project-id\n",
        "# SELECT COUNT(*) as total_rows\n",
        "# FROM `bigquery-public-data.samples.gsod`"
      ]
    },
    {
      "cell_type": "code",
      "execution_count": 5,
      "metadata": {
        "id": "C8_ByjqlRSq6"
      },
      "outputs": [],
      "source": [
        "# Running a query (using a magic command is also common in Colab)\n",
        "query_table = \"\"\"\n",
        "    SELECT *\n",
        "    FROM `bigquery-public-data.iowa_liquor_sales.sales`\n",
        "    --LIMIT 2000000\n",
        "\"\"\"\n",
        "\n",
        "# df = pandas_gbq.read_gbq(query_table, project_id)"
      ]
    },
    {
      "cell_type": "code",
      "execution_count": 6,
      "metadata": {
        "id": "3R0abp9wRnAn"
      },
      "outputs": [],
      "source": [
        "from graphviz import Digraph"
      ]
    },
    {
      "cell_type": "code",
      "execution_count": 7,
      "metadata": {
        "id": "61Y7CLnATqVF"
      },
      "outputs": [],
      "source": [
        "import bigframes.pandas as bf\n",
        "bf.options.bigquery.project = 'lookerstudio-seminar' # Replace with your project ID"
      ]
    },
    {
      "cell_type": "code",
      "execution_count": 8,
      "metadata": {
        "colab": {
          "base_uri": "https://localhost:8080/",
          "height": 52
        },
        "id": "9I_kh6u8WKRx",
        "outputId": "f30c4e67-8e5f-4dfa-811a-a3c8d322aba8"
      },
      "outputs": [
        {
          "output_type": "display_data",
          "data": {
            "text/plain": [
              "<IPython.core.display.HTML object>"
            ],
            "text/html": [
              "Query job 89c70b55-b422-43a5-89c5-9e98c108fe53 is DONE. 0 Bytes processed. <a target=\"_blank\" href=\"https://console.cloud.google.com/bigquery?project=lookerstudio-seminar&j=bq:US:89c70b55-b422-43a5-89c5-9e98c108fe53&page=queryresults\">Open Job</a>"
            ]
          },
          "metadata": {}
        },
        {
          "output_type": "display_data",
          "data": {
            "text/plain": [
              "<IPython.core.display.HTML object>"
            ],
            "text/html": [
              "Query job e75382c1-630b-421e-93de-9066b6b4bc2f is DONE. 9.2 GB processed. <a target=\"_blank\" href=\"https://console.cloud.google.com/bigquery?project=lookerstudio-seminar&j=bq:US:e75382c1-630b-421e-93de-9066b6b4bc2f&page=queryresults\">Open Job</a>"
            ]
          },
          "metadata": {}
        }
      ],
      "source": [
        "df_bf = bf.read_gbq(query_table)"
      ]
    },
    {
      "cell_type": "code",
      "execution_count": 9,
      "metadata": {
        "colab": {
          "base_uri": "https://localhost:8080/",
          "height": 516
        },
        "id": "ufR0hC1VWTgL",
        "outputId": "cc1870ea-50fe-4fa2-8c1b-b1afee5c9d50"
      },
      "outputs": [
        {
          "output_type": "display_data",
          "data": {
            "text/plain": [
              "<IPython.core.display.HTML object>"
            ],
            "text/html": [
              "Query job e7752849-b0da-4023-8f15-b409c48c4f1e is DONE. 9.2 GB processed. <a target=\"_blank\" href=\"https://console.cloud.google.com/bigquery?project=lookerstudio-seminar&j=bq:US:e7752849-b0da-4023-8f15-b409c48c4f1e&page=queryresults\">Open Job</a>"
            ]
          },
          "metadata": {}
        },
        {
          "output_type": "execute_result",
          "data": {
            "text/plain": [
              "  invoice_and_item_number        date store_number  \\\n",
              "0            S06647500053  2012-07-18         2595   \n",
              "1         INV-04030300055  2017-03-28         2666   \n",
              "2         INV-42509200008  2021-12-01         2233   \n",
              "3            S12910100019  2013-06-18         4230   \n",
              "4         INV-07420000004  2017-09-25         5128   \n",
              "\n",
              "                          store_name               address         city  \\\n",
              "0  HY-VEE WINE AND SPIRITS / DENISON  1620  4TH AVE, SOUTH      DENISON   \n",
              "1                 HY-VEE #2 / ANKENY      2510 SW STATE ST       ANKENY   \n",
              "2        FORBES LIQUOR LOCKER / REMI   2508 ENTERPRISE AVE  SPIRIT LAKE   \n",
              "3        FAREWAY STORES #106 / CLIVE  10151 UNIVERSITY AVE        CLIVE   \n",
              "4           PRICE CHOPPER  /  BEAVER       1819 BEAVER AVE   DES MOINES   \n",
              "\n",
              "  zip_code              store_location county_number     county  ...  \\\n",
              "0    51442    POINT (-95.3486 42.0124)            24   CRAWFORD  ...   \n",
              "1    50023  POINT (-93.62182 41.70519)            77       POLK  ...   \n",
              "2  51360.0  POINT (-95.12679 43.41643)            30  DICKINSON  ...   \n",
              "3    50325  POINT (-93.75649 41.60051)            77       POLK  ...   \n",
              "4    50310   POINT (-93.6727 41.61052)            77       POLK  ...   \n",
              "\n",
              "  item_number             item_description pack bottle_volume_ml  \\\n",
              "0       41279        BURNETT'S GRAPE VODKA   12              750   \n",
              "1       33672          GREY GOOSE LE MELON    6              750   \n",
              "2       52563                     E & J XO   12              750   \n",
              "3       27474  BIRD DOG BLACKBERRY WHISKEY    6              750   \n",
              "4       64866    FIREBALL CINNAMON WHISKEY   12              750   \n",
              "\n",
              "  state_bottle_cost state_bottle_retail  bottles_sold  sale_dollars  \\\n",
              "0              4.55                6.82             2         13.64   \n",
              "1             18.49               27.74             3         83.22   \n",
              "2              8.24               12.36             2         24.72   \n",
              "3               8.0                13.0             4          52.0   \n",
              "4               9.0                13.5            12        161.64   \n",
              "\n",
              "   volume_sold_liters  volume_sold_gallons  \n",
              "0                 1.5                  0.4  \n",
              "1                2.25                 0.59  \n",
              "2                 1.5                 0.39  \n",
              "3                 3.0                 0.79  \n",
              "4                 9.0                 2.38  \n",
              "\n",
              "[5 rows x 24 columns]"
            ],
            "text/html": [
              "<div>\n",
              "<style scoped>\n",
              "    .dataframe tbody tr th:only-of-type {\n",
              "        vertical-align: middle;\n",
              "    }\n",
              "\n",
              "    .dataframe tbody tr th {\n",
              "        vertical-align: top;\n",
              "    }\n",
              "\n",
              "    .dataframe thead th {\n",
              "        text-align: right;\n",
              "    }\n",
              "</style>\n",
              "<table border=\"1\" class=\"dataframe\">\n",
              "  <thead>\n",
              "    <tr style=\"text-align: right;\">\n",
              "      <th></th>\n",
              "      <th>invoice_and_item_number</th>\n",
              "      <th>date</th>\n",
              "      <th>store_number</th>\n",
              "      <th>store_name</th>\n",
              "      <th>address</th>\n",
              "      <th>city</th>\n",
              "      <th>zip_code</th>\n",
              "      <th>store_location</th>\n",
              "      <th>county_number</th>\n",
              "      <th>county</th>\n",
              "      <th>...</th>\n",
              "      <th>item_number</th>\n",
              "      <th>item_description</th>\n",
              "      <th>pack</th>\n",
              "      <th>bottle_volume_ml</th>\n",
              "      <th>state_bottle_cost</th>\n",
              "      <th>state_bottle_retail</th>\n",
              "      <th>bottles_sold</th>\n",
              "      <th>sale_dollars</th>\n",
              "      <th>volume_sold_liters</th>\n",
              "      <th>volume_sold_gallons</th>\n",
              "    </tr>\n",
              "  </thead>\n",
              "  <tbody>\n",
              "    <tr>\n",
              "      <th>0</th>\n",
              "      <td>S06647500053</td>\n",
              "      <td>2012-07-18</td>\n",
              "      <td>2595</td>\n",
              "      <td>HY-VEE WINE AND SPIRITS / DENISON</td>\n",
              "      <td>1620  4TH AVE, SOUTH</td>\n",
              "      <td>DENISON</td>\n",
              "      <td>51442</td>\n",
              "      <td>POINT (-95.3486 42.0124)</td>\n",
              "      <td>24</td>\n",
              "      <td>CRAWFORD</td>\n",
              "      <td>...</td>\n",
              "      <td>41279</td>\n",
              "      <td>BURNETT'S GRAPE VODKA</td>\n",
              "      <td>12</td>\n",
              "      <td>750</td>\n",
              "      <td>4.55</td>\n",
              "      <td>6.82</td>\n",
              "      <td>2</td>\n",
              "      <td>13.64</td>\n",
              "      <td>1.5</td>\n",
              "      <td>0.4</td>\n",
              "    </tr>\n",
              "    <tr>\n",
              "      <th>1</th>\n",
              "      <td>INV-04030300055</td>\n",
              "      <td>2017-03-28</td>\n",
              "      <td>2666</td>\n",
              "      <td>HY-VEE #2 / ANKENY</td>\n",
              "      <td>2510 SW STATE ST</td>\n",
              "      <td>ANKENY</td>\n",
              "      <td>50023</td>\n",
              "      <td>POINT (-93.62182 41.70519)</td>\n",
              "      <td>77</td>\n",
              "      <td>POLK</td>\n",
              "      <td>...</td>\n",
              "      <td>33672</td>\n",
              "      <td>GREY GOOSE LE MELON</td>\n",
              "      <td>6</td>\n",
              "      <td>750</td>\n",
              "      <td>18.49</td>\n",
              "      <td>27.74</td>\n",
              "      <td>3</td>\n",
              "      <td>83.22</td>\n",
              "      <td>2.25</td>\n",
              "      <td>0.59</td>\n",
              "    </tr>\n",
              "    <tr>\n",
              "      <th>2</th>\n",
              "      <td>INV-42509200008</td>\n",
              "      <td>2021-12-01</td>\n",
              "      <td>2233</td>\n",
              "      <td>FORBES LIQUOR LOCKER / REMI</td>\n",
              "      <td>2508 ENTERPRISE AVE</td>\n",
              "      <td>SPIRIT LAKE</td>\n",
              "      <td>51360.0</td>\n",
              "      <td>POINT (-95.12679 43.41643)</td>\n",
              "      <td>30</td>\n",
              "      <td>DICKINSON</td>\n",
              "      <td>...</td>\n",
              "      <td>52563</td>\n",
              "      <td>E &amp; J XO</td>\n",
              "      <td>12</td>\n",
              "      <td>750</td>\n",
              "      <td>8.24</td>\n",
              "      <td>12.36</td>\n",
              "      <td>2</td>\n",
              "      <td>24.72</td>\n",
              "      <td>1.5</td>\n",
              "      <td>0.39</td>\n",
              "    </tr>\n",
              "    <tr>\n",
              "      <th>3</th>\n",
              "      <td>S12910100019</td>\n",
              "      <td>2013-06-18</td>\n",
              "      <td>4230</td>\n",
              "      <td>FAREWAY STORES #106 / CLIVE</td>\n",
              "      <td>10151 UNIVERSITY AVE</td>\n",
              "      <td>CLIVE</td>\n",
              "      <td>50325</td>\n",
              "      <td>POINT (-93.75649 41.60051)</td>\n",
              "      <td>77</td>\n",
              "      <td>POLK</td>\n",
              "      <td>...</td>\n",
              "      <td>27474</td>\n",
              "      <td>BIRD DOG BLACKBERRY WHISKEY</td>\n",
              "      <td>6</td>\n",
              "      <td>750</td>\n",
              "      <td>8.0</td>\n",
              "      <td>13.0</td>\n",
              "      <td>4</td>\n",
              "      <td>52.0</td>\n",
              "      <td>3.0</td>\n",
              "      <td>0.79</td>\n",
              "    </tr>\n",
              "    <tr>\n",
              "      <th>4</th>\n",
              "      <td>INV-07420000004</td>\n",
              "      <td>2017-09-25</td>\n",
              "      <td>5128</td>\n",
              "      <td>PRICE CHOPPER  /  BEAVER</td>\n",
              "      <td>1819 BEAVER AVE</td>\n",
              "      <td>DES MOINES</td>\n",
              "      <td>50310</td>\n",
              "      <td>POINT (-93.6727 41.61052)</td>\n",
              "      <td>77</td>\n",
              "      <td>POLK</td>\n",
              "      <td>...</td>\n",
              "      <td>64866</td>\n",
              "      <td>FIREBALL CINNAMON WHISKEY</td>\n",
              "      <td>12</td>\n",
              "      <td>750</td>\n",
              "      <td>9.0</td>\n",
              "      <td>13.5</td>\n",
              "      <td>12</td>\n",
              "      <td>161.64</td>\n",
              "      <td>9.0</td>\n",
              "      <td>2.38</td>\n",
              "    </tr>\n",
              "  </tbody>\n",
              "</table>\n",
              "<p>5 rows × 24 columns</p>\n",
              "</div>[5 rows x 24 columns in total]"
            ]
          },
          "metadata": {},
          "execution_count": 9
        }
      ],
      "source": [
        "df_bf.head(5)"
      ]
    },
    {
      "cell_type": "code",
      "execution_count": 10,
      "metadata": {
        "colab": {
          "base_uri": "https://localhost:8080/"
        },
        "id": "CVRAC1DQYFKr",
        "outputId": "f0cb63ad-524a-4cc2-ed9e-0a3b18678c60"
      },
      "outputs": [
        {
          "output_type": "execute_result",
          "data": {
            "text/plain": [
              "Index(['invoice_and_item_number', 'date', 'store_number', 'store_name',\n",
              "       'address', 'city', 'zip_code', 'store_location', 'county_number',\n",
              "       'county', 'category', 'category_name', 'vendor_number', 'vendor_name',\n",
              "       'item_number', 'item_description', 'pack', 'bottle_volume_ml',\n",
              "       'state_bottle_cost', 'state_bottle_retail', 'bottles_sold',\n",
              "       'sale_dollars', 'volume_sold_liters', 'volume_sold_gallons'],\n",
              "      dtype='object')"
            ]
          },
          "metadata": {},
          "execution_count": 10
        }
      ],
      "source": [
        "df_bf.columns"
      ]
    },
    {
      "cell_type": "code",
      "execution_count": 11,
      "metadata": {
        "colab": {
          "base_uri": "https://localhost:8080/"
        },
        "id": "Za1lEEkIY60I",
        "outputId": "5594ef0f-4d3a-4eb7-f1b4-03ddc062cd04"
      },
      "outputs": [
        {
          "output_type": "stream",
          "name": "stdout",
          "text": [
            "date32[day][pyarrow]\n"
          ]
        }
      ],
      "source": [
        "print(df_bf['date'].dtype)"
      ]
    },
    {
      "cell_type": "code",
      "execution_count": 11,
      "metadata": {
        "id": "fIocNaUZZBUZ"
      },
      "outputs": [],
      "source": []
    },
    {
      "cell_type": "code",
      "execution_count": 12,
      "metadata": {
        "id": "l97NOeR1Zi00"
      },
      "outputs": [],
      "source": [
        "# Assuming df_bf has 'date' and 'sale_dollars' columns\n",
        "\n",
        "# 1. Extract the month from the 'date' column\n",
        "df_bf['month'] = df_bf['date'].dt.month\n",
        "\n",
        "# 2. Group by the 'month' and sum 'sale_dollars'\n",
        "monthly_sales_bf = df_bf.groupby('month')['sale_dollars'].sum().reset_index()\n",
        "monthly_sales_bf = monthly_sales_bf.rename(columns={'sale_dollars': 'monthly_total_sales'})\n",
        "\n",
        "# 3. Merge the monthly sales back into the original df_bf\n",
        "df_bf = bf.merge(df_bf, monthly_sales_bf, on='month', how='left')"
      ]
    },
    {
      "cell_type": "code",
      "execution_count": 13,
      "metadata": {
        "id": "Jrywj_G0bwIx"
      },
      "outputs": [],
      "source": [
        "import pandas as pd\n",
        "from graphviz import Digraph, Graph\n"
      ]
    },
    {
      "cell_type": "code",
      "execution_count": 14,
      "metadata": {
        "colab": {
          "base_uri": "https://localhost:8080/",
          "height": 104
        },
        "id": "UpqbjwcsWagY",
        "outputId": "4105c54e-8b47-403c-c38f-97f77c6677cc"
      },
      "outputs": [
        {
          "output_type": "display_data",
          "data": {
            "text/plain": [
              "<IPython.core.display.HTML object>"
            ],
            "text/html": [
              "Query job d63090ae-df7d-4f0a-8b8b-12deb4ac83c3 is DONE. 501.4 MB processed. <a target=\"_blank\" href=\"https://console.cloud.google.com/bigquery?project=lookerstudio-seminar&j=bq:US:d63090ae-df7d-4f0a-8b8b-12deb4ac83c3&page=queryresults\">Open Job</a>"
            ]
          },
          "metadata": {}
        },
        {
          "output_type": "display_data",
          "data": {
            "text/plain": [
              "<IPython.core.display.HTML object>"
            ],
            "text/html": [
              "Query job 3a0a635f-9a89-4d0a-a673-215603c5f97f is DONE. 1.2 GB processed. <a target=\"_blank\" href=\"https://console.cloud.google.com/bigquery?project=lookerstudio-seminar&j=bq:US:3a0a635f-9a89-4d0a-a673-215603c5f97f&page=queryresults\">Open Job</a>"
            ]
          },
          "metadata": {}
        },
        {
          "output_type": "display_data",
          "data": {
            "text/plain": [
              "<IPython.core.display.HTML object>"
            ],
            "text/html": [
              "Query job 460122b4-9ebe-4ab8-8cdd-6f63dadac088 is DONE. 764.2 MB processed. <a target=\"_blank\" href=\"https://console.cloud.google.com/bigquery?project=lookerstudio-seminar&j=bq:US:460122b4-9ebe-4ab8-8cdd-6f63dadac088&page=queryresults\">Open Job</a>"
            ]
          },
          "metadata": {}
        },
        {
          "output_type": "display_data",
          "data": {
            "text/plain": [
              "<IPython.core.display.HTML object>"
            ],
            "text/html": [
              "Query job f73c58cc-91cc-4710-bf83-581d469eb348 is DONE. 501.4 MB processed. <a target=\"_blank\" href=\"https://console.cloud.google.com/bigquery?project=lookerstudio-seminar&j=bq:US:f73c58cc-91cc-4710-bf83-581d469eb348&page=queryresults\">Open Job</a>"
            ]
          },
          "metadata": {}
        },
        {
          "output_type": "stream",
          "name": "stdout",
          "text": [
            "Graphs generated: sales_performance_flow.png\n"
          ]
        }
      ],
      "source": [
        "\n",
        "# Load the dataset (replace with your BigQuery connection logic)\n",
        "# For demo, assume `df` is your loaded DataFrame:\n",
        "# df = pd.read_gbq('SELECT * FROM `bigquery-public-data.iowa_liquor_sales.sales`', project_id=your_project_id)\n",
        "\n",
        "# --------------------------------------\n",
        "# 1. Sales Performance Flowchart\n",
        "# --------------------------------------\n",
        "def create_sales_performance_flow(df):\n",
        "    flowchart = Digraph(\"Sales_Performance\", format=\"png\")\n",
        "    flowchart.attr(rankdir=\"LR\", bgcolor=\"white\")\n",
        "\n",
        "    # Calculate key metrics\n",
        "    total_sales = df['sale_dollars'].sum()\n",
        "    top_product = df.groupby('item_description')['sale_dollars'].sum().idxmax()\n",
        "    top_county = df.groupby('county')['sale_dollars'].sum().idxmax()\n",
        "\n",
        "    # Define nodes with dynamic metrics\n",
        "    flowchart.node(\"Sales\", f\"Total Sales\\n${total_sales:,.0f}\", shape=\"box\", fillcolor=\"#e6f3ff\")\n",
        "    flowchart.node(\"Product\", f\"Top Product\\n{top_product}\", shape=\"box\", fillcolor=\"#d4f7d4\")\n",
        "    flowchart.node(\"County\", f\"Top County\\n{top_county}\", shape=\"box\", fillcolor=\"#d4f7d4\")\n",
        "    flowchart.node(\"Trends\", \"Monthly Trends\", shape=\"ellipse\", fillcolor=\"#ffe6e6\")\n",
        "\n",
        "    # Add edges\n",
        "    flowchart.edge(\"Sales\", \"Product\", label=\"Driven by\")\n",
        "    flowchart.edge(\"Sales\", \"County\", label=\"Top Region\")\n",
        "    flowchart.edge(\"Sales\", \"Trends\", label=\"Over Time\")\n",
        "\n",
        "    # Add time trend subgraph (example)\n",
        "    with flowchart.subgraph(name=\"cluster_trends\") as c:\n",
        "        c.attr(label=\"Monthly Sales\", style=\"dashed\")\n",
        "\n",
        "        # Assuming 'df' now has a 'month' column (integer 1-12)\n",
        "        # and a 'monthly_total_sales' column\n",
        "\n",
        "        # Group by the 'month' column and take the first 'monthly_total_sales' value\n",
        "        # for each month. This assumes 'monthly_total_sales' is the same for all\n",
        "        # rows within a given month after the merge.\n",
        "        monthly_sales_for_graph = df.groupby('month')['monthly_total_sales'].max()\n",
        "\n",
        "        for month, total_sales in monthly_sales_for_graph.items():\n",
        "            c.node(f\"Month_{month}\", f\"Month {month}\\n${total_sales:,.0f}\", shape=\"note\")\n",
        "\n",
        "    return flowchart\n",
        "\n",
        "\n",
        "# --------------------------------------\n",
        "# Execute & Render\n",
        "# --------------------------------------\n",
        "# Assuming `df` is your loaded DataFrame:\n",
        "# sales_flow = create_sales_performance_flow(df)\n",
        "# geo_hierarchy = create_geo_hierarchy(df)\n",
        "\n",
        "sales_flow = create_sales_performance_flow(df_bf)\n",
        "sales_flow.render(\"sales_performance_flow\", view=True)\n",
        "\n",
        "\n",
        "\n",
        "print(\"Graphs generated: sales_performance_flow.png\")"
      ]
    },
    {
      "cell_type": "code",
      "execution_count": 15,
      "metadata": {
        "colab": {
          "base_uri": "https://localhost:8080/",
          "height": 69
        },
        "id": "YGo93diGcNVA",
        "outputId": "4208ff0e-4b3b-4e90-c761-7125745a5e64"
      },
      "outputs": [
        {
          "output_type": "display_data",
          "data": {
            "text/plain": [
              "<IPython.core.display.HTML object>"
            ],
            "text/html": [
              "Query job 58ecc53c-ef98-4da1-9138-88dfea78067e is DONE. 9.2 GB processed. <a target=\"_blank\" href=\"https://console.cloud.google.com/bigquery?project=lookerstudio-seminar&j=bq:US:58ecc53c-ef98-4da1-9138-88dfea78067e&page=queryresults\">Open Job</a>"
            ]
          },
          "metadata": {}
        },
        {
          "output_type": "display_data",
          "data": {
            "text/plain": [
              "<IPython.core.display.HTML object>"
            ],
            "text/html": [
              "Query job b480ca98-9229-458c-8cbe-a21f78f65821 is DONE. 9.2 GB processed. <a target=\"_blank\" href=\"https://console.cloud.google.com/bigquery?project=lookerstudio-seminar&j=bq:US:b480ca98-9229-458c-8cbe-a21f78f65821&page=queryresults\">Open Job</a>"
            ]
          },
          "metadata": {}
        },
        {
          "output_type": "execute_result",
          "data": {
            "text/plain": [
              "(datetime.date(2012, 1, 3), datetime.date(2025, 3, 31))"
            ]
          },
          "metadata": {},
          "execution_count": 15
        }
      ],
      "source": [
        "min(df_bf['date']), max(df_bf['date'])"
      ]
    },
    {
      "cell_type": "code",
      "execution_count": 16,
      "metadata": {
        "colab": {
          "base_uri": "https://localhost:8080/",
          "height": 659
        },
        "id": "wRslsZ9jXUFQ",
        "outputId": "2e888fa4-7860-4b9c-8619-2de8594dde57"
      },
      "outputs": [
        {
          "output_type": "display_data",
          "data": {
            "text/plain": [
              "<IPython.core.display.HTML object>"
            ],
            "text/html": [
              "Query job e7fd99b9-d89a-450e-a259-43d53a692e60 is DONE. 764.2 MB processed. <a target=\"_blank\" href=\"https://console.cloud.google.com/bigquery?project=lookerstudio-seminar&j=bq:US:e7fd99b9-d89a-450e-a259-43d53a692e60&page=queryresults\">Open Job</a>"
            ]
          },
          "metadata": {}
        },
        {
          "output_type": "display_data",
          "data": {
            "text/plain": [
              "<IPython.core.display.HTML object>"
            ],
            "text/html": [
              "Query job 44246333-7847-43eb-86b7-383dc088a988 is DONE. 9.2 GB processed. <a target=\"_blank\" href=\"https://console.cloud.google.com/bigquery?project=lookerstudio-seminar&j=bq:US:44246333-7847-43eb-86b7-383dc088a988&page=queryresults\">Open Job</a>"
            ]
          },
          "metadata": {}
        },
        {
          "output_type": "display_data",
          "data": {
            "text/plain": [
              "<IPython.core.display.HTML object>"
            ],
            "text/html": [
              "Query job 34d3c14c-64f7-4514-b659-8fdb6bf2c788 is DONE. 9.2 GB processed. <a target=\"_blank\" href=\"https://console.cloud.google.com/bigquery?project=lookerstudio-seminar&j=bq:US:34d3c14c-64f7-4514-b659-8fdb6bf2c788&page=queryresults\">Open Job</a>"
            ]
          },
          "metadata": {}
        },
        {
          "output_type": "display_data",
          "data": {
            "text/plain": [
              "<IPython.core.display.HTML object>"
            ],
            "text/html": [
              "Query job 405bce89-284f-454b-9681-26fe0ba65ab3 is DONE. 1.4 GB processed. <a target=\"_blank\" href=\"https://console.cloud.google.com/bigquery?project=lookerstudio-seminar&j=bq:US:405bce89-284f-454b-9681-26fe0ba65ab3&page=queryresults\">Open Job</a>"
            ]
          },
          "metadata": {}
        },
        {
          "output_type": "display_data",
          "data": {
            "text/plain": [
              "<IPython.core.display.HTML object>"
            ],
            "text/html": [
              "Query job a7b40382-bf32-441b-a1e8-01a6cfd5ef51 is DONE. 9.2 GB processed. <a target=\"_blank\" href=\"https://console.cloud.google.com/bigquery?project=lookerstudio-seminar&j=bq:US:a7b40382-bf32-441b-a1e8-01a6cfd5ef51&page=queryresults\">Open Job</a>"
            ]
          },
          "metadata": {}
        },
        {
          "output_type": "display_data",
          "data": {
            "text/plain": [
              "<IPython.core.display.HTML object>"
            ],
            "text/html": [
              "Query job 00ffb946-76b5-4e43-af3f-f991c6f9f40c is DONE. 1.4 GB processed. <a target=\"_blank\" href=\"https://console.cloud.google.com/bigquery?project=lookerstudio-seminar&j=bq:US:00ffb946-76b5-4e43-af3f-f991c6f9f40c&page=queryresults\">Open Job</a>"
            ]
          },
          "metadata": {}
        },
        {
          "output_type": "display_data",
          "data": {
            "text/plain": [
              "<IPython.core.display.HTML object>"
            ],
            "text/html": [
              "Query job f89549a3-4b7f-42fa-ab02-f040173213c1 is DONE. 9.2 GB processed. <a target=\"_blank\" href=\"https://console.cloud.google.com/bigquery?project=lookerstudio-seminar&j=bq:US:f89549a3-4b7f-42fa-ab02-f040173213c1&page=queryresults\">Open Job</a>"
            ]
          },
          "metadata": {}
        },
        {
          "output_type": "display_data",
          "data": {
            "text/plain": [
              "<IPython.core.display.HTML object>"
            ],
            "text/html": [
              "Query job 852b0674-fc7e-453b-859d-e5a60448536f is DONE. 1.4 GB processed. <a target=\"_blank\" href=\"https://console.cloud.google.com/bigquery?project=lookerstudio-seminar&j=bq:US:852b0674-fc7e-453b-859d-e5a60448536f&page=queryresults\">Open Job</a>"
            ]
          },
          "metadata": {}
        },
        {
          "output_type": "display_data",
          "data": {
            "text/plain": [
              "<IPython.core.display.HTML object>"
            ],
            "text/html": [
              "Query job 5dc36cbd-b5c0-407c-8eb3-dae97bc076de is DONE. 9.2 GB processed. <a target=\"_blank\" href=\"https://console.cloud.google.com/bigquery?project=lookerstudio-seminar&j=bq:US:5dc36cbd-b5c0-407c-8eb3-dae97bc076de&page=queryresults\">Open Job</a>"
            ]
          },
          "metadata": {}
        },
        {
          "output_type": "display_data",
          "data": {
            "text/plain": [
              "<IPython.core.display.HTML object>"
            ],
            "text/html": [
              "Query job 0d4ee070-b901-4992-ba8d-d2ccc422dbea is DONE. 9.2 GB processed. <a target=\"_blank\" href=\"https://console.cloud.google.com/bigquery?project=lookerstudio-seminar&j=bq:US:0d4ee070-b901-4992-ba8d-d2ccc422dbea&page=queryresults\">Open Job</a>"
            ]
          },
          "metadata": {}
        },
        {
          "output_type": "display_data",
          "data": {
            "text/plain": [
              "<IPython.core.display.HTML object>"
            ],
            "text/html": [
              "Query job 30ba1089-3c8e-474b-887e-1ac6814c9eb9 is DONE. 1.4 GB processed. <a target=\"_blank\" href=\"https://console.cloud.google.com/bigquery?project=lookerstudio-seminar&j=bq:US:30ba1089-3c8e-474b-887e-1ac6814c9eb9&page=queryresults\">Open Job</a>"
            ]
          },
          "metadata": {}
        },
        {
          "output_type": "display_data",
          "data": {
            "text/plain": [
              "<IPython.core.display.HTML object>"
            ],
            "text/html": [
              "Query job 881ee7a5-afb4-4437-a2df-5e4e217ad336 is DONE. 9.2 GB processed. <a target=\"_blank\" href=\"https://console.cloud.google.com/bigquery?project=lookerstudio-seminar&j=bq:US:881ee7a5-afb4-4437-a2df-5e4e217ad336&page=queryresults\">Open Job</a>"
            ]
          },
          "metadata": {}
        },
        {
          "output_type": "display_data",
          "data": {
            "text/plain": [
              "<IPython.core.display.HTML object>"
            ],
            "text/html": [
              "Query job 3ddc328c-12ec-4ca7-8f5c-bb0990d594d7 is DONE. 1.4 GB processed. <a target=\"_blank\" href=\"https://console.cloud.google.com/bigquery?project=lookerstudio-seminar&j=bq:US:3ddc328c-12ec-4ca7-8f5c-bb0990d594d7&page=queryresults\">Open Job</a>"
            ]
          },
          "metadata": {}
        },
        {
          "output_type": "display_data",
          "data": {
            "text/plain": [
              "<IPython.core.display.HTML object>"
            ],
            "text/html": [
              "Query job 18696353-8830-4e77-9d5f-bfe4ba1f3570 is DONE. 9.2 GB processed. <a target=\"_blank\" href=\"https://console.cloud.google.com/bigquery?project=lookerstudio-seminar&j=bq:US:18696353-8830-4e77-9d5f-bfe4ba1f3570&page=queryresults\">Open Job</a>"
            ]
          },
          "metadata": {}
        },
        {
          "output_type": "display_data",
          "data": {
            "text/plain": [
              "<IPython.core.display.HTML object>"
            ],
            "text/html": [
              "Query job 646243a7-5998-4244-a172-b963120f28fd is DONE. 1.4 GB processed. <a target=\"_blank\" href=\"https://console.cloud.google.com/bigquery?project=lookerstudio-seminar&j=bq:US:646243a7-5998-4244-a172-b963120f28fd&page=queryresults\">Open Job</a>"
            ]
          },
          "metadata": {}
        },
        {
          "output_type": "display_data",
          "data": {
            "text/plain": [
              "<IPython.core.display.HTML object>"
            ],
            "text/html": [
              "Query job e1bc0f61-0ead-493d-8061-fd9ddbf7969a is DONE. 9.2 GB processed. <a target=\"_blank\" href=\"https://console.cloud.google.com/bigquery?project=lookerstudio-seminar&j=bq:US:e1bc0f61-0ead-493d-8061-fd9ddbf7969a&page=queryresults\">Open Job</a>"
            ]
          },
          "metadata": {}
        },
        {
          "output_type": "display_data",
          "data": {
            "text/plain": [
              "<IPython.core.display.HTML object>"
            ],
            "text/html": [
              "Query job 04091ec4-cdd1-461f-8470-d62aac592dcb is DONE. 9.2 GB processed. <a target=\"_blank\" href=\"https://console.cloud.google.com/bigquery?project=lookerstudio-seminar&j=bq:US:04091ec4-cdd1-461f-8470-d62aac592dcb&page=queryresults\">Open Job</a>"
            ]
          },
          "metadata": {}
        },
        {
          "output_type": "display_data",
          "data": {
            "text/plain": [
              "<IPython.core.display.HTML object>"
            ],
            "text/html": [
              "Query job 81478847-715f-45e4-81e5-eaf3c0d3e98f is DONE. 1.4 GB processed. <a target=\"_blank\" href=\"https://console.cloud.google.com/bigquery?project=lookerstudio-seminar&j=bq:US:81478847-715f-45e4-81e5-eaf3c0d3e98f&page=queryresults\">Open Job</a>"
            ]
          },
          "metadata": {}
        },
        {
          "output_type": "display_data",
          "data": {
            "text/plain": [
              "<IPython.core.display.HTML object>"
            ],
            "text/html": [
              "Query job d5174f5a-8f5b-43e3-a30d-9acf68ec2ddf is DONE. 9.2 GB processed. <a target=\"_blank\" href=\"https://console.cloud.google.com/bigquery?project=lookerstudio-seminar&j=bq:US:d5174f5a-8f5b-43e3-a30d-9acf68ec2ddf&page=queryresults\">Open Job</a>"
            ]
          },
          "metadata": {}
        },
        {
          "output_type": "display_data",
          "data": {
            "text/plain": [
              "<IPython.core.display.HTML object>"
            ],
            "text/html": [
              "Query job 2fa2534e-c090-4142-acda-72f5278ee24d is DONE. 1.4 GB processed. <a target=\"_blank\" href=\"https://console.cloud.google.com/bigquery?project=lookerstudio-seminar&j=bq:US:2fa2534e-c090-4142-acda-72f5278ee24d&page=queryresults\">Open Job</a>"
            ]
          },
          "metadata": {}
        },
        {
          "output_type": "display_data",
          "data": {
            "text/plain": [
              "<IPython.core.display.HTML object>"
            ],
            "text/html": [
              "Query job db5efb49-b496-4b9d-b438-4d89d806ade3 is DONE. 9.2 GB processed. <a target=\"_blank\" href=\"https://console.cloud.google.com/bigquery?project=lookerstudio-seminar&j=bq:US:db5efb49-b496-4b9d-b438-4d89d806ade3&page=queryresults\">Open Job</a>"
            ]
          },
          "metadata": {}
        },
        {
          "output_type": "display_data",
          "data": {
            "text/plain": [
              "<IPython.core.display.HTML object>"
            ],
            "text/html": [
              "Query job 20fcb6f8-d2c0-45e5-817d-5130d8112461 is DONE. 1.4 GB processed. <a target=\"_blank\" href=\"https://console.cloud.google.com/bigquery?project=lookerstudio-seminar&j=bq:US:20fcb6f8-d2c0-45e5-817d-5130d8112461&page=queryresults\">Open Job</a>"
            ]
          },
          "metadata": {}
        },
        {
          "output_type": "display_data",
          "data": {
            "text/plain": [
              "<IPython.core.display.HTML object>"
            ],
            "text/html": [
              "Query job 22aaf67d-12e7-4765-adbf-37f2519dc633 is DONE. 9.2 GB processed. <a target=\"_blank\" href=\"https://console.cloud.google.com/bigquery?project=lookerstudio-seminar&j=bq:US:22aaf67d-12e7-4765-adbf-37f2519dc633&page=queryresults\">Open Job</a>"
            ]
          },
          "metadata": {}
        },
        {
          "output_type": "display_data",
          "data": {
            "text/plain": [
              "<IPython.core.display.HTML object>"
            ],
            "text/html": [
              "Query job c8ab3895-7649-4f02-a119-352335113e32 is DONE. 9.2 GB processed. <a target=\"_blank\" href=\"https://console.cloud.google.com/bigquery?project=lookerstudio-seminar&j=bq:US:c8ab3895-7649-4f02-a119-352335113e32&page=queryresults\">Open Job</a>"
            ]
          },
          "metadata": {}
        },
        {
          "output_type": "display_data",
          "data": {
            "text/plain": [
              "<IPython.core.display.HTML object>"
            ],
            "text/html": [
              "Query job 6cc784ea-d5bd-4547-ae09-2633dd9227bb is DONE. 1.4 GB processed. <a target=\"_blank\" href=\"https://console.cloud.google.com/bigquery?project=lookerstudio-seminar&j=bq:US:6cc784ea-d5bd-4547-ae09-2633dd9227bb&page=queryresults\">Open Job</a>"
            ]
          },
          "metadata": {}
        },
        {
          "output_type": "display_data",
          "data": {
            "text/plain": [
              "<IPython.core.display.HTML object>"
            ],
            "text/html": [
              "Query job 7a1da061-5b26-4fa1-9904-0c1200310214 is DONE. 9.2 GB processed. <a target=\"_blank\" href=\"https://console.cloud.google.com/bigquery?project=lookerstudio-seminar&j=bq:US:7a1da061-5b26-4fa1-9904-0c1200310214&page=queryresults\">Open Job</a>"
            ]
          },
          "metadata": {}
        },
        {
          "output_type": "display_data",
          "data": {
            "text/plain": [
              "<IPython.core.display.HTML object>"
            ],
            "text/html": [
              "Query job ae14e160-40e4-45b5-811e-c9545e68292e is DONE. 1.4 GB processed. <a target=\"_blank\" href=\"https://console.cloud.google.com/bigquery?project=lookerstudio-seminar&j=bq:US:ae14e160-40e4-45b5-811e-c9545e68292e&page=queryresults\">Open Job</a>"
            ]
          },
          "metadata": {}
        },
        {
          "output_type": "display_data",
          "data": {
            "text/plain": [
              "<IPython.core.display.HTML object>"
            ],
            "text/html": [
              "Query job 6de5c00a-afac-4f26-ae61-d806b5ac2349 is DONE. 9.2 GB processed. <a target=\"_blank\" href=\"https://console.cloud.google.com/bigquery?project=lookerstudio-seminar&j=bq:US:6de5c00a-afac-4f26-ae61-d806b5ac2349&page=queryresults\">Open Job</a>"
            ]
          },
          "metadata": {}
        },
        {
          "output_type": "display_data",
          "data": {
            "text/plain": [
              "<IPython.core.display.HTML object>"
            ],
            "text/html": [
              "Query job 3c3ada8f-b8cb-4c88-97b4-7cf9468f4aef is DONE. 1.4 GB processed. <a target=\"_blank\" href=\"https://console.cloud.google.com/bigquery?project=lookerstudio-seminar&j=bq:US:3c3ada8f-b8cb-4c88-97b4-7cf9468f4aef&page=queryresults\">Open Job</a>"
            ]
          },
          "metadata": {}
        },
        {
          "output_type": "display_data",
          "data": {
            "text/plain": [
              "<IPython.core.display.HTML object>"
            ],
            "text/html": [
              "Query job b141696d-263c-478d-adfb-14915d64bb04 is DONE. 9.2 GB processed. <a target=\"_blank\" href=\"https://console.cloud.google.com/bigquery?project=lookerstudio-seminar&j=bq:US:b141696d-263c-478d-adfb-14915d64bb04&page=queryresults\">Open Job</a>"
            ]
          },
          "metadata": {}
        },
        {
          "output_type": "display_data",
          "data": {
            "text/plain": [
              "<IPython.core.display.HTML object>"
            ],
            "text/html": [
              "Query job 143f34c0-38d6-4f94-ba50-7c1eb0f336ad is DONE. 9.2 GB processed. <a target=\"_blank\" href=\"https://console.cloud.google.com/bigquery?project=lookerstudio-seminar&j=bq:US:143f34c0-38d6-4f94-ba50-7c1eb0f336ad&page=queryresults\">Open Job</a>"
            ]
          },
          "metadata": {}
        },
        {
          "output_type": "display_data",
          "data": {
            "text/plain": [
              "<IPython.core.display.HTML object>"
            ],
            "text/html": [
              "Query job f98f0a21-27e6-4347-aa48-f8f104154256 is DONE. 1.4 GB processed. <a target=\"_blank\" href=\"https://console.cloud.google.com/bigquery?project=lookerstudio-seminar&j=bq:US:f98f0a21-27e6-4347-aa48-f8f104154256&page=queryresults\">Open Job</a>"
            ]
          },
          "metadata": {}
        },
        {
          "output_type": "display_data",
          "data": {
            "text/plain": [
              "<IPython.core.display.HTML object>"
            ],
            "text/html": [
              "Query job a8c2d524-18e1-49bf-88d6-69ea7ffab977 is DONE. 9.2 GB processed. <a target=\"_blank\" href=\"https://console.cloud.google.com/bigquery?project=lookerstudio-seminar&j=bq:US:a8c2d524-18e1-49bf-88d6-69ea7ffab977&page=queryresults\">Open Job</a>"
            ]
          },
          "metadata": {}
        },
        {
          "output_type": "display_data",
          "data": {
            "text/plain": [
              "<IPython.core.display.HTML object>"
            ],
            "text/html": [
              "Query job 91f1f88a-7756-4a06-b8c5-42425a5ae874 is DONE. 1.4 GB processed. <a target=\"_blank\" href=\"https://console.cloud.google.com/bigquery?project=lookerstudio-seminar&j=bq:US:91f1f88a-7756-4a06-b8c5-42425a5ae874&page=queryresults\">Open Job</a>"
            ]
          },
          "metadata": {}
        },
        {
          "output_type": "display_data",
          "data": {
            "text/plain": [
              "<IPython.core.display.HTML object>"
            ],
            "text/html": [
              "Query job c2d7255b-72ec-4a84-92e1-73d72921e7ff is DONE. 9.2 GB processed. <a target=\"_blank\" href=\"https://console.cloud.google.com/bigquery?project=lookerstudio-seminar&j=bq:US:c2d7255b-72ec-4a84-92e1-73d72921e7ff&page=queryresults\">Open Job</a>"
            ]
          },
          "metadata": {}
        },
        {
          "output_type": "display_data",
          "data": {
            "text/plain": [
              "<IPython.core.display.HTML object>"
            ],
            "text/html": [
              "Query job a7bd814a-693c-4ec3-90fc-9883414b6473 is DONE. 1.4 GB processed. <a target=\"_blank\" href=\"https://console.cloud.google.com/bigquery?project=lookerstudio-seminar&j=bq:US:a7bd814a-693c-4ec3-90fc-9883414b6473&page=queryresults\">Open Job</a>"
            ]
          },
          "metadata": {}
        },
        {
          "output_type": "stream",
          "name": "stdout",
          "text": [
            "Graphs generated:  geo_sales_hierarchy.png\n"
          ]
        }
      ],
      "source": [
        "\n",
        "# --------------------------------------\n",
        "# 2. Geographic Sales Hierarchy\n",
        "# --------------------------------------\n",
        "def create_geo_hierarchy(df):\n",
        "    hierarchy = Graph(\"Sales_Hierarchy\", format=\"png\")\n",
        "    hierarchy.attr(rankdir=\"TB\", bgcolor=\"white\")\n",
        "\n",
        "    # Aggregate data: County → Store → Top Product\n",
        "    # county_sales = df.groupby('county')['sale_dollars'].sum().nlargest(5).index.tolist()\n",
        "    top_counties_pd = df.groupby('county')['sale_dollars'].sum().nlargest(5).to_pandas()\n",
        "    county_sales = top_counties_pd.index.tolist() # Now top_counties_pd is a Pandas Series\n",
        "    # --- End Correction ---\n",
        "\n",
        "    for county in county_sales:\n",
        "        hierarchy.node(county, shape=\"folder\", fillcolor=\"#e6f3ff\")\n",
        "        stores = df[df['county'] == county]['store_number'].unique()[:3]  # Top 3 stores\n",
        "        for store in stores:\n",
        "            store_name = df[df['store_number'] == store]['store_name'].iloc[0]\n",
        "            hierarchy.node(store, f\"Store: {store_name}\", shape=\"box\", fillcolor=\"#d4f7d4\")\n",
        "            hierarchy.edge(county, store)\n",
        "            # Add top product per store\n",
        "            top_product = df[df['store_number'] == store].groupby('item_description')['sale_dollars'].sum().idxmax()\n",
        "            hierarchy.node(f\"{store}_product\", f\"Top Product\\n{top_product}\", shape=\"ellipse\", fillcolor=\"#ffe6e6\")\n",
        "            hierarchy.edge(store, f\"{store}_product\")\n",
        "\n",
        "    return hierarchy\n",
        "\n",
        "geo_hierarchy = create_geo_hierarchy(df_bf)\n",
        "geo_hierarchy.render(\"geo_sales_hierarchy\", view=True)\n",
        "\n",
        "print(\"Graphs generated:  geo_sales_hierarchy.png\")"
      ]
    },
    {
      "cell_type": "code",
      "execution_count": 16,
      "metadata": {
        "id": "WkRtzANMGTQj"
      },
      "outputs": [],
      "source": []
    }
  ],
  "metadata": {
    "colab": {
      "provenance": []
    },
    "kernelspec": {
      "display_name": "Python 3",
      "name": "python3"
    },
    "language_info": {
      "name": "python"
    }
  },
  "nbformat": 4,
  "nbformat_minor": 0
}