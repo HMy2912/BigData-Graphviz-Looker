{
 "cells": [
  {
   "cell_type": "code",
   "execution_count": 1,
   "id": "1908a15a",
   "metadata": {},
   "outputs": [],
   "source": [
    "from pyspark import SparkContext\n",
    "import numpy as np"
   ]
  },
  {
   "cell_type": "code",
   "execution_count": 2,
   "id": "b7bb5b5a",
   "metadata": {},
   "outputs": [],
   "source": [
    "# Initialize Spark Context\n",
    "sc = SparkContext(master=\"local[*]\", appName=\"FraudDetection\")\n"
   ]
  },
  {
   "cell_type": "code",
   "execution_count": null,
   "id": "2fa5f0f4",
   "metadata": {},
   "outputs": [],
   "source": [
    "# Load data\n",
    "file_path = \"../creditcard.csv/creditcard.csv\"\n",
    "# raw_data = sc.textFile(file_path)"
   ]
  },
  {
   "cell_type": "code",
   "execution_count": null,
   "id": "800ef8f2",
   "metadata": {},
   "outputs": [],
   "source": [
    "# 1. Improved Data Loading and Parsing\n",
    "def load_and_parse_data(sc, filepath):\n",
    "    \"\"\"Load and parse CSV data, handling headers and malformed records\"\"\"\n",
    "    try:\n",
    "        # More robust header handling\n",
    "        lines = sc.textFile(filepath)\n",
    "        # header = lines.first()\n",
    "\n",
    "        indexed_rdd = lines.zipWithIndex()\n",
    "\n",
    "        header = indexed_rdd.filter(lambda x: x[1] == 0).map(lambda x: x[0]).collect()\n",
    "        if header:\n",
    "            header = header[0]\n",
    "            data = indexed_rdd.filter(lambda x: x[1] > 0).map(lambda x: x[0])\n",
    "        \n",
    "        # Skip header and parse data\n",
    "        data = lines.filter(lambda line: line != header).map(\n",
    "            lambda line: [float(x.strip('\"')) if x.strip('\"').isdigit() else 0.0 \n",
    "            for x in line.split(\",\")]\n",
    "        )\n",
    "        \n",
    "        # Create feature-label pairs, handle empty lines\n",
    "        rdd_data = data.filter(lambda cols: len(cols) > 1).map(\n",
    "            lambda cols: (cols[:-1], cols[-1])\n",
    "        )\n",
    "        \n",
    "        # Cache as we'll reuse this RDD\n",
    "        rdd_data.cache()\n",
    "        \n",
    "        # Count features for verification\n",
    "        num_features = len(rdd_data.first()[0]) if not rdd_data.isEmpty() else 0\n",
    "        print(f\"Loaded dataset with {rdd_data.count()} records and {num_features} features\")\n",
    "        \n",
    "        return rdd_data\n",
    "        \n",
    "    except Exception as e:\n",
    "        print(f\"Error loading data: {str(e)}\")\n",
    "        return sc.emptyRDD()\n"
   ]
  },
  {
   "cell_type": "code",
   "execution_count": null,
   "id": "fedf9c6b",
   "metadata": {},
   "outputs": [],
   "source": [
    "rdd_data = load_and_parse_data(sc, file_path)"
   ]
  },
  {
   "cell_type": "code",
   "execution_count": null,
   "id": "dfc1e4ed",
   "metadata": {},
   "outputs": [],
   "source": [
    "# Parse CSV and cache the RDD\n",
    "parsed_data = raw_data.filter(lambda line: line != header) \\\n",
    "                     .map(lambda line: line.split(\",\")) \\\n",
    "                     .map(lambda cols: (\n",
    "                         [float(x.strip('\"')) for x in cols[:-1]],  # Features (V1-V28, Time, Amount)\n",
    "                         int(cols[-1])                  # Class (0 or 1)\n",
    "                     )).cache()\n",
    "\n",
    "# Count classes for imbalance analysis\n",
    "class_counts = parsed_data.map(lambda x: (x[1], 1)) \\\n",
    "                        .reduceByKey(lambda a, b: a + b) \\\n",
    "                        .collect()\n",
    "\n",
    "print(\"Class distribution:\", dict(class_counts))"
   ]
  },
  {
   "cell_type": "code",
   "execution_count": null,
   "id": "6c620efa",
   "metadata": {},
   "outputs": [],
   "source": []
  }
 ],
 "metadata": {
  "kernelspec": {
   "display_name": "Python 3",
   "language": "python",
   "name": "python3"
  },
  "language_info": {
   "codemirror_mode": {
    "name": "ipython",
    "version": 3
   },
   "file_extension": ".py",
   "mimetype": "text/x-python",
   "name": "python",
   "nbconvert_exporter": "python",
   "pygments_lexer": "ipython3",
   "version": "3.10.5"
  }
 },
 "nbformat": 4,
 "nbformat_minor": 5
}
