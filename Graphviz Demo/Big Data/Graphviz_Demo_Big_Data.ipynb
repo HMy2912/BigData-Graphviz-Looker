{
  "nbformat": 4,
  "nbformat_minor": 0,
  "metadata": {
    "colab": {
      "provenance": []
    },
    "kernelspec": {
      "name": "python3",
      "display_name": "Python 3"
    },
    "language_info": {
      "name": "python"
    }
  },
  "cells": [
    {
      "cell_type": "code",
      "source": [
        "%pip install findspark"
      ],
      "metadata": {
        "colab": {
          "base_uri": "https://localhost:8080/"
        },
        "id": "gqR0Dl-WAn3w",
        "outputId": "dc41edd5-269d-467a-df5a-171f0d39f012"
      },
      "execution_count": 5,
      "outputs": [
        {
          "output_type": "stream",
          "name": "stdout",
          "text": [
            "Requirement already satisfied: findspark in /usr/local/lib/python3.11/dist-packages (2.0.1)\n"
          ]
        }
      ]
    },
    {
      "cell_type": "code",
      "source": [
        "import os\n",
        "import findspark\n",
        "findspark.init()"
      ],
      "metadata": {
        "id": "kohPbTfIfFX6"
      },
      "execution_count": 6,
      "outputs": []
    },
    {
      "cell_type": "code",
      "source": [
        "from pyspark import SparkConf, SparkContext\n",
        "from pyspark.sql import SparkSession, functions as F, types as T"
      ],
      "metadata": {
        "id": "oes3InMBfHT3"
      },
      "execution_count": 7,
      "outputs": []
    },
    {
      "cell_type": "code",
      "source": [
        "from google.colab import auth\n",
        "auth.authenticate_user()"
      ],
      "metadata": {
        "id": "zX2yDy87TXCk"
      },
      "execution_count": 8,
      "outputs": []
    },
    {
      "cell_type": "code",
      "source": [
        "# Build SparkSession (pull in the BigQuery connector)\n",
        "spark = (\n",
        "    SparkSession.builder\n",
        "      .appName(\"BQ in Colab\")\n",
        "      .config(\n",
        "        \"spark.jars.packages\",\n",
        "        \"com.google.cloud.spark:spark-bigquery-with-dependencies_2.12:0.34.0\"\n",
        "      )\n",
        "      .config(\"spark.sql.execution.bigquery.parentProject\", \"lookerstudio-seminar\")\n",
        "      .getOrCreate()\n",
        ")"
      ],
      "metadata": {
        "id": "hWz8wWVuTXwK"
      },
      "execution_count": 9,
      "outputs": []
    },
    {
      "cell_type": "code",
      "execution_count": 10,
      "metadata": {
        "id": "8pKSm0g6AiBR"
      },
      "outputs": [],
      "source": [
        "df = (spark.read\n",
        "      .format(\"bigquery\")\n",
        "      .option('parentProject','lookerstudio-seminar')\n",
        "      .option(\"project\",      \"bigquery-public-data\")\n",
        "      .option(\"dataset\",      \"iowa_liquor_sales\")\n",
        "      .option(\"table\",        \"sales\")\n",
        "      .load())"
      ]
    },
    {
      "cell_type": "code",
      "source": [
        "df.printSchema()"
      ],
      "metadata": {
        "colab": {
          "base_uri": "https://localhost:8080/"
        },
        "id": "ZW54-q_9AkHa",
        "outputId": "c962ee14-2890-4f1c-c990-118aa49b4c3a"
      },
      "execution_count": 11,
      "outputs": [
        {
          "output_type": "stream",
          "name": "stdout",
          "text": [
            "root\n",
            " |-- invoice_and_item_number: string (nullable = true)\n",
            " |-- date: date (nullable = true)\n",
            " |-- store_number: string (nullable = true)\n",
            " |-- store_name: string (nullable = true)\n",
            " |-- address: string (nullable = true)\n",
            " |-- city: string (nullable = true)\n",
            " |-- zip_code: string (nullable = true)\n",
            " |-- store_location: string (nullable = true)\n",
            " |-- county_number: string (nullable = true)\n",
            " |-- county: string (nullable = true)\n",
            " |-- category: string (nullable = true)\n",
            " |-- category_name: string (nullable = true)\n",
            " |-- vendor_number: string (nullable = true)\n",
            " |-- vendor_name: string (nullable = true)\n",
            " |-- item_number: string (nullable = true)\n",
            " |-- item_description: string (nullable = true)\n",
            " |-- pack: long (nullable = true)\n",
            " |-- bottle_volume_ml: long (nullable = true)\n",
            " |-- state_bottle_cost: double (nullable = true)\n",
            " |-- state_bottle_retail: double (nullable = true)\n",
            " |-- bottles_sold: long (nullable = true)\n",
            " |-- sale_dollars: double (nullable = true)\n",
            " |-- volume_sold_liters: double (nullable = true)\n",
            " |-- volume_sold_gallons: double (nullable = true)\n",
            "\n"
          ]
        }
      ]
    },
    {
      "cell_type": "code",
      "source": [
        "df.schema"
      ],
      "metadata": {
        "colab": {
          "base_uri": "https://localhost:8080/"
        },
        "id": "9d2HWWquSvys",
        "outputId": "b88d38da-2386-41bd-94f8-72c8d4d152e6"
      },
      "execution_count": 12,
      "outputs": [
        {
          "output_type": "execute_result",
          "data": {
            "text/plain": [
              "StructType([StructField('invoice_and_item_number', StringType(), True), StructField('date', DateType(), True), StructField('store_number', StringType(), True), StructField('store_name', StringType(), True), StructField('address', StringType(), True), StructField('city', StringType(), True), StructField('zip_code', StringType(), True), StructField('store_location', StringType(), True), StructField('county_number', StringType(), True), StructField('county', StringType(), True), StructField('category', StringType(), True), StructField('category_name', StringType(), True), StructField('vendor_number', StringType(), True), StructField('vendor_name', StringType(), True), StructField('item_number', StringType(), True), StructField('item_description', StringType(), True), StructField('pack', LongType(), True), StructField('bottle_volume_ml', LongType(), True), StructField('state_bottle_cost', DoubleType(), True), StructField('state_bottle_retail', DoubleType(), True), StructField('bottles_sold', LongType(), True), StructField('sale_dollars', DoubleType(), True), StructField('volume_sold_liters', DoubleType(), True), StructField('volume_sold_gallons', DoubleType(), True)])"
            ]
          },
          "metadata": {},
          "execution_count": 12
        }
      ]
    },
    {
      "cell_type": "code",
      "source": [
        "df.select(\"invoice_and_item_number\", \"store_name\", \"store_number\").show()"
      ],
      "metadata": {
        "colab": {
          "base_uri": "https://localhost:8080/"
        },
        "id": "saf6zkjFBCeq",
        "outputId": "9fef1d44-4c75-42d3-dfc0-cde6f901f707"
      },
      "execution_count": 13,
      "outputs": [
        {
          "output_type": "stream",
          "name": "stdout",
          "text": [
            "+-----------------------+--------------------+------------+\n",
            "|invoice_and_item_number|          store_name|store_number|\n",
            "+-----------------------+--------------------+------------+\n",
            "|       RINV-04661200006|MART STOP #1 / DA...|        4640|\n",
            "|       RINV-04206100001|KIMBERLY MART / D...|        3715|\n",
            "|       RINV-05530900056|QUIK TRIP #544 / ...|        4622|\n",
            "|       RINV-05460000115|      KEOKUK SPIRITS|        2191|\n",
            "|       RINV-05111400055|MUGHAL, INC. / WA...|       10200|\n",
            "|       RINV-04318300141|HY-VEE FOOD STORE...|        2555|\n",
            "|       RINV-05572400037|HY-VEE FOOD STORE...|        2601|\n",
            "|       RINV-05560100015|CASEY'S GENERAL S...|        5317|\n",
            "|       RINV-04356100115|WAL-MART 4256 / AMES|        4004|\n",
            "|       RINV-05073100131|      KEOKUK SPIRITS|        2191|\n",
            "|       RINV-04910100113|HY-VEE FOOD STORE...|        2622|\n",
            "|       RINV-04850600171|HY-VEE FOOD STORE...|        2666|\n",
            "|       RINV-04629500034|FAREWAY STORES #0...|        4092|\n",
            "|       RINV-04616200014|YESWAY STORE # 10...|        5297|\n",
            "|       RINV-04211200006|NORTHSIDE LIQUOR ...|        6144|\n",
            "|       RINV-04566200062|HY-VEE DRUGSTORE ...|        2529|\n",
            "|       RINV-05557700033|     HY-VEE / WAUKEE|        2665|\n",
            "|       RINV-04812300058|     H & A MINI MART|        5600|\n",
            "|       RINV-04954600120|HY-VEE FOOD STORE...|        2565|\n",
            "|       RINV-04356000110|HY-VEE FOOD STORE...|        2549|\n",
            "+-----------------------+--------------------+------------+\n",
            "only showing top 20 rows\n",
            "\n"
          ]
        }
      ]
    },
    {
      "cell_type": "code",
      "source": [
        "df.show()"
      ],
      "metadata": {
        "id": "dp9CmnlfR2MH",
        "colab": {
          "base_uri": "https://localhost:8080/"
        },
        "outputId": "4e56cb95-59e5-4168-c475-48b5a549b82c"
      },
      "execution_count": 14,
      "outputs": [
        {
          "output_type": "stream",
          "name": "stdout",
          "text": [
            "+-----------------------+----------+------------+--------------------+--------------------+------------+--------+--------------------+-------------+-----------+---------+--------------------+-------------+--------------------+-----------+--------------------+----+----------------+-----------------+-------------------+------------+------------+------------------+-------------------+\n",
            "|invoice_and_item_number|      date|store_number|          store_name|             address|        city|zip_code|      store_location|county_number|     county| category|       category_name|vendor_number|         vendor_name|item_number|    item_description|pack|bottle_volume_ml|state_bottle_cost|state_bottle_retail|bottles_sold|sale_dollars|volume_sold_liters|volume_sold_gallons|\n",
            "+-----------------------+----------+------------+--------------------+--------------------+------------+--------+--------------------+-------------+-----------+---------+--------------------+-------------+--------------------+-----------+--------------------+----+----------------+-----------------+-------------------+------------+------------+------------------+-------------------+\n",
            "|       RINV-04661200006|2023-05-30|        4640|MART STOP #1 / DA...|      3527 SPRING ST|   DAVENPORT| 52807.0|POINT(-90.5472040...|         NULL|      SCOTT|1031100.0|     AMERICAN VODKAS|          300|MCCORMICK DISTILL...|      36886|MCCORMICK 80PRF V...|  12|             750|             3.64|               5.46|         -36|     -196.56|             -27.0|              -7.13|\n",
            "|       RINV-04206100001|2022-07-27|        3715|KIMBERLY MART / D...|  1714 E KIMBERLY RD|   DAVENPORT|   52807|POINT(-90.550657 ...|         NULL|      SCOTT|1052100.0|   IMPORTED BRANDIES|          420|   MOET HENNESSY USA|      48099|         HENNESSY VS|  24|             200|             7.49|              11.24|        -120|     -1348.8|             -24.0|              -6.34|\n",
            "|       RINV-05530900056|2024-11-26|        4622|QUIK TRIP #544 / ...|     3941 SE 14TH ST|  DES MOINES| 50320.0|POINT(-93.59631 4...|         NULL|       POLK|1081400.0|   AMERICAN SCHNAPPS|          421|SAZERAC COMPANY  INC|      84217|           99 GRAPES|  48|             100|              1.0|                1.5|        -144|      -216.0|             -14.4|               -3.8|\n",
            "|       RINV-05460000115|2024-10-07|        2191|      KEOKUK SPIRITS|           1013 MAIN|      KEOKUK| 52632.0|POINT(-91.38774 4...|         NULL|        LEE|1081400.0|   AMERICAN SCHNAPPS|          380|   PHILLIPS BEVERAGE|      83357|ICE HOLE PLUM SCH...|  12|            1000|              7.0|               10.5|         -12|      -126.0|             -12.0|              -3.17|\n",
            "|       RINV-05111400055|2024-01-30|       10200|MUGHAL, INC. / WA...|      735 LOGAN AVE.|    WATERLOO| 50703.0|POINT(-92.3379910...|         NULL| BLACK HAWK|1022100.0|       MIXTO TEQUILA|          395|             PROXIMO|      87409|JOSE CUERVO ESPEC...|  12|            1000|             15.0|               22.5|         -12|      -270.0|             -12.0|              -3.17|\n",
            "|       RINV-04318300141|2022-10-17|        2555|HY-VEE FOOD STORE...|           3111 MAIN|      KEOKUK|   52632|POINT(-91.403673 ...|         NULL|        LEE|1022100.0|       MIXTO TEQUILA|          421|SAZERAC COMPANY  INC|      89887|         TORADA GOLD|  12|            1000|             6.63|               9.95|         -12|      -119.4|             -12.0|              -3.17|\n",
            "|       RINV-05572400037|2024-12-23|        2601|HY-VEE FOOD STORE...|1300 WEST BURLING...|   FAIRFIELD| 52556.0|POINT(-91.97939 4...|         NULL|  JEFFERSON|1032100.0|     IMPORTED VODKAS|           35|     BACARDI USA INC|      34425|          GREY GOOSE|   6|            1750|            25.99|              38.99|          -6|     -233.94|             -10.5|              -2.77|\n",
            "|       RINV-05560100015|2024-12-17|        5317|CASEY'S GENERAL S...|     113 HWY 30 WEST|      TOLEDO| 52342.0|POINT(-92.58017 4...|         NULL|       TAMA|1012100.0|   CANADIAN WHISKIES|          259|  HEAVEN HILL BRANDS|      10550|BLACK VELVET TOAS...|  12|             750|              6.0|                9.0|         -12|      -108.0|              -9.0|              -2.37|\n",
            "|       RINV-04356100115|2022-11-04|        4004|WAL-MART 4256 / AMES|   534 SOUTHDUFF AVE|        AMES| 50010.0|POINT(-93.61034 4...|         NULL|      STORY|1011200.0|STRAIGHT BOURBON ...|          259|  HEAVEN HILL BRANDS|      17956| EVAN WILLIAMS BLACK|  12|             750|              8.5|              12.75|         -12|      -153.0|              -9.0|              -2.37|\n",
            "|       RINV-05073100131|2024-01-08|        2191|      KEOKUK SPIRITS|           1013 MAIN|      KEOKUK| 52632.0|POINT(-91.3875200...|         NULL|        LEE|1011200.0|STRAIGHT BOURBON ...|           65|     JIM BEAM BRANDS|      19476|         MAKERS MARK|  12|             750|             18.0|               27.0|         -12|      -324.0|              -9.0|              -2.37|\n",
            "|       RINV-04910100113|2023-10-20|        2622|HY-VEE FOOD STORE...|     1125 N DODGE ST|   IOWA CITY| 52240.0|POINT(-91.5189221...|         NULL|    JOHNSON|1011200.0|STRAIGHT BOURBON ...|           65|     JIM BEAM BRANDS|      19476|         MAKERS MARK|  12|             750|             18.0|               27.0|         -12|      -324.0|              -9.0|              -2.37|\n",
            "|       RINV-04850600171|2023-09-15|        2666|HY-VEE FOOD STORE...|    2510 SW STATE ST|      ANKENY| 50023.0|POINT(-93.6239339...|         NULL|       POLK|1011200.0|STRAIGHT BOURBON ...|          434|           LUXCO INC|      21067|PENELOPE BARREL S...|   6|             750|             30.0|               45.0|         -12|      -540.0|              -9.0|              -2.37|\n",
            "|       RINV-04629500034|2023-05-05|        4092|FAREWAY STORES #0...|      1711 SUNSET DR|     NORWALK| 50211.0|POINT(-93.6769040...|         NULL|     WARREN|1032200.0|IMPORTED FLAVORED...|          370|   PERNOD RICARD USA|      34116|     ABSOLUT MANDRIN|  12|             750|             9.99|              14.99|         -12|     -179.88|              -9.0|              -2.37|\n",
            "|       RINV-04616200014|2023-04-26|        5297|YESWAY STORE # 10...|    1803 SUPERIOR ST|WEBSTER CITY| 50595.0|POINT(-93.81586 4...|         NULL|   HAMILTON|1031100.0|     AMERICAN VODKAS|          434|           LUXCO INC|      36305|   HAWKEYE VODKA PET|  12|             750|              3.5|               5.25|         -12|       -63.0|              -9.0|              -2.37|\n",
            "|       RINV-04211200006|2022-08-01|        6144|NORTHSIDE LIQUOR ...|      1303 N FEDERAL|  MASON CITY| 50401.0|POINT(-93.201061 ...|         NULL|CERRO GORDO|1031100.0|     AMERICAN VODKAS|          301|FIFTH GENERATION INC|      38174|TITOS HANDMADE VODKA|  12|             375|             5.42|               8.13|         -24|     -195.12|              -9.0|              -2.37|\n",
            "|       RINV-04566200062|2023-03-24|        2529|HY-VEE DRUGSTORE ...| 4825 JOHNSON AVE NW|CEDAR RAPIDS| 52405.0|POINT(-91.7334 41...|         NULL|       LINN|1031200.0|AMERICAN FLAVORED...|          521|JEM BEVERAGE COMP...|      39449|WESTERN SON RASPB...|  12|             750|             9.01|              13.52|         -12|     -162.24|              -9.0|              -2.37|\n",
            "|       RINV-05557700033|2024-12-16|        2665|     HY-VEE / WAUKEE|   1005 E HICKMAN RD|      WAUKEE| 50263.0|POINT(-93.85435 4...|         NULL|     DALLAS|1031200.0|AMERICAN FLAVORED...|          205|  E & J GALLO WINERY|      40048|NEW AMSTERDAM GRA...|  12|             750|              8.0|               12.0|         -12|      -144.0|              -9.0|              -2.37|\n",
            "|       RINV-04812300058|2023-08-22|        5600|     H & A MINI MART|  145 UNIVERSITY AVE|  DES MOINES| 50314.0|POINT(-93.6192429...|         NULL|       POLK|1052100.0|   IMPORTED BRANDIES|          420|   MOET HENNESSY USA|      48106|         HENNESSY VS|  12|             750|            19.99|              29.99|         -12|     -359.88|              -9.0|              -2.37|\n",
            "|       RINV-04954600120|2023-11-13|        2565|HY-VEE FOOD STORE...|     819 N GRAND AVE|     SPENCER| 51301.0|POINT(-95.1451632...|         NULL|       CLAY|1081400.0|   AMERICAN SCHNAPPS|          380|   PHILLIPS BEVERAGE|      83363|ICE HOLE BUTTERSC...|  12|             750|              5.5|               8.25|         -12|       -99.0|              -9.0|              -2.37|\n",
            "|       RINV-04356000110|2022-11-04|        2549|HY-VEE FOOD STORE...|     910 N JEFFERSON|   INDIANOLA| 50125.0|POINT(-93.55836 4...|         NULL|     WARREN|1012100.0|   CANADIAN WHISKIES|          259|  HEAVEN HILL BRANDS|      86455|  BLACK VELVET APPLE|  12|             750|             5.23|               7.85|         -12|       -94.2|              -9.0|              -2.37|\n",
            "+-----------------------+----------+------------+--------------------+--------------------+------------+--------+--------------------+-------------+-----------+---------+--------------------+-------------+--------------------+-----------+--------------------+----+----------------+-----------------+-------------------+------------+------------+------------------+-------------------+\n",
            "only showing top 20 rows\n",
            "\n"
          ]
        }
      ]
    },
    {
      "cell_type": "code",
      "source": [
        "df.limit(10)"
      ],
      "metadata": {
        "id": "dz_AjGRoBQkT",
        "colab": {
          "base_uri": "https://localhost:8080/"
        },
        "outputId": "9fef8b7f-ee57-41be-a0fd-910c9b5ac090"
      },
      "execution_count": 15,
      "outputs": [
        {
          "output_type": "execute_result",
          "data": {
            "text/plain": [
              "DataFrame[invoice_and_item_number: string, date: date, store_number: string, store_name: string, address: string, city: string, zip_code: string, store_location: string, county_number: string, county: string, category: string, category_name: string, vendor_number: string, vendor_name: string, item_number: string, item_description: string, pack: bigint, bottle_volume_ml: bigint, state_bottle_cost: double, state_bottle_retail: double, bottles_sold: bigint, sale_dollars: double, volume_sold_liters: double, volume_sold_gallons: double]"
            ]
          },
          "metadata": {},
          "execution_count": 15
        }
      ]
    },
    {
      "cell_type": "code",
      "source": [
        "df"
      ],
      "metadata": {
        "id": "4ns55-1ZPGlK",
        "colab": {
          "base_uri": "https://localhost:8080/"
        },
        "outputId": "7735ecdb-87f2-409f-b685-485b7b5aaef9"
      },
      "execution_count": 16,
      "outputs": [
        {
          "output_type": "execute_result",
          "data": {
            "text/plain": [
              "DataFrame[invoice_and_item_number: string, date: date, store_number: string, store_name: string, address: string, city: string, zip_code: string, store_location: string, county_number: string, county: string, category: string, category_name: string, vendor_number: string, vendor_name: string, item_number: string, item_description: string, pack: bigint, bottle_volume_ml: bigint, state_bottle_cost: double, state_bottle_retail: double, bottles_sold: bigint, sale_dollars: double, volume_sold_liters: double, volume_sold_gallons: double]"
            ]
          },
          "metadata": {},
          "execution_count": 16
        }
      ]
    },
    {
      "cell_type": "code",
      "source": [
        "from graphviz import Digraph"
      ],
      "metadata": {
        "id": "Lw8T_SfTVxya"
      },
      "execution_count": 17,
      "outputs": []
    },
    {
      "cell_type": "code",
      "source": [
        "# Extract month\n",
        "df = df.withColumn(\"month\", F.month(\"date\"))\n",
        "\n",
        "# Calculate monthly sales\n",
        "monthly_sales = df.groupBy(\"month\") \\\n",
        "    .agg(F.sum(\"sale_dollars\").alias(\"monthly_total_sales\"))\n",
        "\n",
        "# Join back to original DataFrame\n",
        "df = df.join(monthly_sales, on=\"month\", how=\"left\")"
      ],
      "metadata": {
        "id": "Jm_vuGk4WurS"
      },
      "execution_count": 18,
      "outputs": []
    },
    {
      "cell_type": "code",
      "source": [
        "# --------------------------------------\n",
        "# 1. Sales Performance Flowchart (Spark Version)\n",
        "# --------------------------------------\n",
        "def create_sales_performance_flow(df):\n",
        "    flowchart = Digraph(\"Sales_Performance\", format=\"png\")\n",
        "    flowchart.attr(rankdir=\"LR\", bgcolor=\"white\")\n",
        "\n",
        "    # Calculate metrics\n",
        "    total_sales = df.agg(F.sum(\"sale_dollars\")).collect()[0][0]\n",
        "    top_product = df.groupBy(\"item_description\").agg(F.sum(\"sale_dollars\").alias(\"total\")) \\\n",
        "                   .orderBy(F.desc(\"total\")).first()[\"item_description\"]\n",
        "    top_county = df.groupBy(\"county\").agg(F.sum(\"sale_dollars\").alias(\"total\")) \\\n",
        "                  .orderBy(F.desc(\"total\")).first()[\"county\"]\n",
        "\n",
        "    # Nodes\n",
        "    flowchart.node(\"Sales\", f\"Total Sales\\n${total_sales:,.0f}\", shape=\"box\", fillcolor=\"#e6f3ff\")\n",
        "    flowchart.node(\"Product\", f\"Top Product\\n{top_product}\", shape=\"box\", fillcolor=\"#d4f7d4\")\n",
        "    flowchart.node(\"County\", f\"Top County\\n{top_county}\", shape=\"box\", fillcolor=\"#d4f7d4\")\n",
        "    flowchart.node(\"Trends\", \"Monthly Trends\", shape=\"ellipse\", fillcolor=\"#ffe6e6\")\n",
        "\n",
        "    # Edges\n",
        "    flowchart.edge(\"Sales\", \"Product\", label=\"Driven by\")\n",
        "    flowchart.edge(\"Sales\", \"County\", label=\"Top Region\")\n",
        "    flowchart.edge(\"Sales\", \"Trends\", label=\"Over Time\")\n",
        "\n",
        "    # Monthly trends\n",
        "    monthly_data = df.groupBy(\"month\").agg(F.sum(\"sale_dollars\").alias(\"total\")) \\\n",
        "                   .orderBy(\"month\").collect()\n",
        "\n",
        "    with flowchart.subgraph(name=\"cluster_trends\") as c:\n",
        "        c.attr(label=\"Monthly Sales\", style=\"dashed\")\n",
        "        for row in monthly_data:\n",
        "            month = row[\"month\"]\n",
        "            sales = row[\"total\"]\n",
        "            c.node(f\"Month_{month}\", f\"Month {month}\\n${sales:,.0f}\", shape=\"note\")\n",
        "\n",
        "    return flowchart\n",
        "\n",
        "# Generate and render\n",
        "sales_flow = create_sales_performance_flow(df)\n",
        "sales_flow.render(\"sales_performance_flow_spark\", view=True)\n",
        "print(\"sales_performance_flow_spark graph generated!\")"
      ],
      "metadata": {
        "colab": {
          "base_uri": "https://localhost:8080/"
        },
        "id": "hhlFIlD6OwwF",
        "outputId": "e579111f-0b3b-463e-dc53-630632257f89"
      },
      "execution_count": 19,
      "outputs": [
        {
          "output_type": "stream",
          "name": "stdout",
          "text": [
            "sales_performance_flow_spark graph generated!\n"
          ]
        }
      ]
    },
    {
      "cell_type": "code",
      "source": [
        "from graphviz import Digraph\n",
        "from pyspark.sql.functions import col, sum, avg, count_distinct"
      ],
      "metadata": {
        "id": "Hw7-0Io2gSFd"
      },
      "execution_count": 20,
      "outputs": []
    },
    {
      "cell_type": "code",
      "source": [
        "# Calculate all metrics in one Spark query\n",
        "metrics = df.agg(\n",
        "    sum(\"sale_dollars\").alias(\"total_sales\"),\n",
        "    sum(\"bottles_sold\").alias(\"total_bottles\"),\n",
        "    sum(\"volume_sold_liters\").alias(\"total_liters\"),\n",
        "    avg(col(\"state_bottle_retail\") - col(\"state_bottle_cost\")).alias(\"profit_per_bottle\"),\n",
        "    (sum(\"sale_dollars\") / count_distinct(\"invoice_and_item_number\")).alias(\"aov\"),\n",
        "    (count_distinct(\"invoice_and_item_number\") / count_distinct(\"store_number\")).alias(\"aof\")\n",
        ").collect()[0]\n",
        "\n",
        "# Create Graphviz visualization\n",
        "g = Digraph('PerformanceDashboard', format='png')\n",
        "g.attr(rankdir='TB', bgcolor='white', layout='neato')\n",
        "\n",
        "# Main container\n",
        "with g.subgraph(name='cluster_main') as c:\n",
        "    c.attr(label='Iowa Liquor Sales Performance', style='filled', fillcolor='#f0f0f0', fontsize='16')\n",
        "\n",
        "    # First row metrics\n",
        "    with c.subgraph(name='cluster_row1') as row1:\n",
        "        row1.attr(rank='same')\n",
        "        row1.node('TS', f\"Total Sales\\n${metrics['total_sales']:,.0f}\",\n",
        "                 shape='box', style='filled', fillcolor='#e6f3ff', width='2', height='1.5')\n",
        "        row1.node('TB', f\"Total Bottles\\n{metrics['total_bottles']:,.0f}\",\n",
        "                 shape='box', style='filled', fillcolor='#e6f3ff', width='2', height='1.5')\n",
        "        row1.node('TV', f\"Total Volume\\n{metrics['total_liters']:,.0f} L\",\n",
        "                 shape='box', style='filled', fillcolor='#e6f3ff', width='2', height='1.5')\n",
        "\n",
        "    # Second row metrics\n",
        "    with c.subgraph(name='cluster_row2') as row2:\n",
        "        row2.attr(rank='same')\n",
        "        row2.node('PPB', f\"Profit/Bottle\\n${metrics['profit_per_bottle']:.2f}\",\n",
        "                 shape='box', style='filled', fillcolor='#d4f7d4', width='2', height='1.5')\n",
        "        row2.node('AOV', f\"Avg Order Value\\n${metrics['aov']:.2f}\",\n",
        "                 shape='box', style='filled', fillcolor='#d4f7d4', width='2', height='1.5')\n",
        "        row2.node('AOF', f\"Avg Order Freq\\n{metrics['aof']:.2f}/store\",\n",
        "                 shape='box', style='filled', fillcolor='#d4f7d4', width='2', height='1.5')\n",
        "\n",
        "# Add invisible edges to force layout\n",
        "c.edges([\n",
        "    ('TS', 'TB'),\n",
        "    ('TB', 'TV'),\n",
        "    ('PPB', 'AOV'),\n",
        "    ('AOV', 'AOF')\n",
        "])\n",
        "\n",
        "g.render('performance_dashboard', view=True)\n",
        "print(\"metrics graph generated!\")"
      ],
      "metadata": {
        "id": "E35HsYdTY-P5",
        "colab": {
          "base_uri": "https://localhost:8080/"
        },
        "outputId": "e0a59e63-caf8-44a9-b6b9-fe233fec9b0a"
      },
      "execution_count": 22,
      "outputs": [
        {
          "output_type": "stream",
          "name": "stdout",
          "text": [
            "metrics graph generated!\n"
          ]
        }
      ]
    },
    {
      "cell_type": "code",
      "source": [
        "from pyspark.sql.functions import year, month\n",
        "\n",
        "# Monthly sales trend\n",
        "monthly_sales = df.groupBy(year(\"date\").alias(\"year\"), month(\"date\").alias(\"month\")) \\\n",
        "    .agg(sum(\"sale_dollars\").alias(\"sales\")) \\\n",
        "    .orderBy(\"year\", \"month\") \\\n",
        "    .collect()\n",
        "\n",
        "# Generate Graphviz timeline\n",
        "g = Digraph('SalesTrend', format='pdf')\n",
        "g.attr(rankdir='LR', bgcolor='white')\n",
        "\n",
        "prev_node = None\n",
        "for row in monthly_sales:\n",
        "    node_id = f\"{row['year']}-{row['month']}\"\n",
        "    g.node(node_id, f\"{row['year']}-{row['month']}\\n${row['sales']:,.0f}\", shape='note')\n",
        "    if prev_node:\n",
        "        g.edge(prev_node, node_id, style='dashed')\n",
        "    prev_node = node_id\n",
        "\n",
        "g.render('sales_trend_timeline')"
      ],
      "metadata": {
        "colab": {
          "base_uri": "https://localhost:8080/",
          "height": 36
        },
        "id": "RCY6HACSfCU3",
        "outputId": "9dbaece6-f86f-4726-9c78-225956fa786b"
      },
      "execution_count": 23,
      "outputs": [
        {
          "output_type": "execute_result",
          "data": {
            "text/plain": [
              "'sales_trend_timeline.png'"
            ],
            "application/vnd.google.colaboratory.intrinsic+json": {
              "type": "string"
            }
          },
          "metadata": {},
          "execution_count": 23
        }
      ]
    },
    {
      "cell_type": "code",
      "source": [
        "# Top 10 counties by sales\n",
        "county_sales = df.groupBy(\"county\") \\\n",
        "    .agg(sum(\"sale_dollars\").alias(\"sales\")) \\\n",
        "    .orderBy(col(\"sales\").desc()) \\\n",
        "    .limit(10) \\\n",
        "    .collect()\n",
        "\n",
        "g = Digraph('CountySales', format='png')\n",
        "g.attr(rankdir='TB', bgcolor='white')\n",
        "\n",
        "for row in county_sales:\n",
        "    g.node(row['county'],\n",
        "           f\"{row['county']}\\n${row['sales']:,.0f}\",\n",
        "           shape='folder',\n",
        "           fillcolor='#e6f3ff')\n",
        "\n",
        "g.render('county_sales_hierarchy')"
      ],
      "metadata": {
        "id": "kvC2Kfharx5M"
      },
      "execution_count": null,
      "outputs": []
    },
    {
      "cell_type": "code",
      "source": [
        "# Top 10 products\n",
        "top_products = df.groupBy(\"item_description\") \\\n",
        "    .agg(sum(\"sale_dollars\").alias(\"sales\")) \\\n",
        "    .orderBy(col(\"sales\").desc()) \\\n",
        "    .limit(10) \\\n",
        "    .collect()\n",
        "\n",
        "g = Digraph('TopProducts', format='png')\n",
        "g.attr(rankdir='TB', bgcolor='white')\n",
        "\n",
        "for i, row in enumerate(top_products):\n",
        "    g.node(str(i),\n",
        "           f\"{row['item_description']}\\n${row['sales']:,.0f}\",\n",
        "           shape='box',\n",
        "           fillcolor='#d4f7d4')\n",
        "\n",
        "g.render('top_products_ranking')"
      ],
      "metadata": {
        "colab": {
          "base_uri": "https://localhost:8080/",
          "height": 36
        },
        "id": "Iyc4c9MgglnL",
        "outputId": "ac2d2222-b880-4994-e193-dbcd987be5f2"
      },
      "execution_count": 25,
      "outputs": [
        {
          "output_type": "execute_result",
          "data": {
            "text/plain": [
              "'top_products_ranking.png'"
            ],
            "application/vnd.google.colaboratory.intrinsic+json": {
              "type": "string"
            }
          },
          "metadata": {},
          "execution_count": 25
        }
      ]
    },
    {
      "cell_type": "code",
      "source": [
        "from graphviz import Digraph\n",
        "from pyspark.sql.functions import col, sum, lag, window\n",
        "from pyspark.sql.window import Window\n",
        "import matplotlib.cm as cm\n",
        "import matplotlib.colors as mcolors\n",
        "\n",
        "# 1. Calculate profit margins and time trends\n",
        "# ==============================================\n",
        "# Profit margin calculation\n",
        "df = df.withColumn(\"profit_margin\",\n",
        "                  (col(\"state_bottle_retail\") - col(\"state_bottle_cost\")) / col(\"state_bottle_retail\"))\n",
        "\n",
        "# Time trend calculation (MoM growth)\n",
        "window_spec = Window.partitionBy(\"county\", \"store_number\", \"item_description\") \\\n",
        "                  .orderBy(\"date\") \\\n",
        "                  # .rowsBetween(-1, 0)\n",
        "\n",
        "df = df.withColumn(\"prev_month_sales\",\n",
        "                  lag(\"sale_dollars\", 1).over(window_spec)) \\\n",
        "       .withColumn(\"sales_growth\",\n",
        "                  (col(\"sale_dollars\") - col(\"prev_month_sales\")) / col(\"prev_month_sales\"))\n",
        "\n",
        "# 2. Color mapping setup\n",
        "# ==============================================\n",
        "cmap = cm.get_cmap('RdYlGn')  # Red-Yellow-Green colormap\n",
        "norm = mcolors.Normalize(vmin=0, vmax=0.5)  # 0-50% margin range\n",
        "\n",
        "def margin_to_color(margin):\n",
        "    return \"#{:02x}{:02x}{:02x}\".format(*[int(255*x) for x in cmap(norm(margin))][:3])\n",
        "\n",
        "# 3. Hierarchical visualization with enhancements\n",
        "# ==============================================\n",
        "def create_enhanced_county_view(df):\n",
        "    g = Digraph('EnhancedCountyView', format='pdf')\n",
        "    g.attr(rankdir='TB', bgcolor='white', layout='dot')\n",
        "\n",
        "    # Get top 10 counties\n",
        "    counties = df.groupBy(\"county\") \\\n",
        "               .agg(sum(\"sale_dollars\").alias(\"total_sales\"),\n",
        "                    avg(\"sales_growth\").alias(\"avg_growth\")) \\\n",
        "               .orderBy(col(\"total_sales\").desc()) \\\n",
        "               .limit(10) \\\n",
        "               .collect()\n",
        "\n",
        "    max_county_sales = max([c['total_sales'] for c in counties])\n",
        "\n",
        "    for county in counties:\n",
        "        # County node with dynamic width and growth label\n",
        "        county_width = 1 + (county['total_sales'] / max_county_sales) * 1.5\n",
        "        growth_label = f\"{'+' if county['avg_growth'] > 0 else ''}{county['avg_growth']*100:.1f}% MoM\" if county['avg_growth'] else \"N/A\"\n",
        "\n",
        "        g.node(county['county'],\n",
        "              f\"{county['county']}\\n${county['total_sales']/1e6:.1f}M\\n({growth_label})\",\n",
        "              shape='folder',\n",
        "              style='filled',\n",
        "              fillcolor='#e6f3ff',\n",
        "              width=str(county_width),\n",
        "              fontsize='14')\n",
        "\n",
        "        # Get top 3 stores\n",
        "        stores = df.filter(col(\"county\") == county['county']) \\\n",
        "                 .groupBy(\"store_number\", \"store_name\") \\\n",
        "                 .agg(sum(\"sale_dollars\").alias(\"store_sales\"),\n",
        "                      avg(\"sales_growth\").alias(\"store_growth\")) \\\n",
        "                 .orderBy(col(\"store_sales\").desc()) \\\n",
        "                 .limit(3) \\\n",
        "                 .collect()\n",
        "\n",
        "        max_store_sales = max([s['store_sales'] for s in stores]) if stores else 1\n",
        "\n",
        "        for store in stores:\n",
        "            # Store node with dynamic width\n",
        "            store_width = 0.5 + (store['store_sales'] / max_store_sales) * 1.0\n",
        "            growth_label = f\"{'+' if store['store_growth'] > 0 else ''}{store['store_growth']*100:.1f}%\"\n",
        "\n",
        "            g.node(str(store['store_number']),\n",
        "                  f\"{store['store_name']}\\n${store['store_sales']/1e3:.1f}K\\n({growth_label})\",\n",
        "                  shape='box',\n",
        "                  style='filled',\n",
        "                  fillcolor='#d4f7d4',\n",
        "                  width=str(store_width))\n",
        "\n",
        "            g.edge(county['county'], str(store['store_number']))\n",
        "\n",
        "            # Get top 2 products\n",
        "            products = df.filter(col(\"store_number\") == store['store_number']) \\\n",
        "                       .groupBy(\"item_description\") \\\n",
        "                       .agg(sum(\"sale_dollars\").alias(\"product_sales\"),\n",
        "                            avg(\"profit_margin\").alias(\"avg_margin\")) \\\n",
        "                       .orderBy(col(\"product_sales\").desc()) \\\n",
        "                       .limit(2) \\\n",
        "                       .collect()\n",
        "\n",
        "            max_product_sales = max([p['product_sales'] for p in products]) if products else 1\n",
        "\n",
        "            for product in products:\n",
        "                # Product node with color-coded margin\n",
        "                product_width = 0.3 + (product['product_sales'] / max_product_sales) * 0.7\n",
        "                color = margin_to_color(product['avg_margin'])\n",
        "\n",
        "                g.node(product['item_description'],\n",
        "                      f\"{product['item_description'][:15]}...\\n${product['product_sales']:,.0f}\",\n",
        "                      shape='ellipse',\n",
        "                      style='filled',\n",
        "                      fillcolor=color,\n",
        "                      width=str(product_width),\n",
        "                      fontcolor='black' if product['avg_margin'] > 0.2 else 'white')\n",
        "\n",
        "                g.edge(str(store['store_number']), product['item_description'])\n",
        "\n",
        "    return g\n",
        "\n",
        "# 4. Execute and render\n",
        "# ==============================================\n",
        "enhanced_graph = create_enhanced_county_view(df)\n",
        "enhanced_graph.render('enhanced_county_view', view=True)"
      ],
      "metadata": {
        "colab": {
          "base_uri": "https://localhost:8080/",
          "height": 90
        },
        "id": "tEVbVrp5giD7",
        "outputId": "a80df02f-89d5-4b40-b221-36d00cb434ac"
      },
      "execution_count": 28,
      "outputs": [
        {
          "output_type": "stream",
          "name": "stderr",
          "text": [
            "<ipython-input-28-6e1019d48747>:25: MatplotlibDeprecationWarning: The get_cmap function was deprecated in Matplotlib 3.7 and will be removed in 3.11. Use ``matplotlib.colormaps[name]`` or ``matplotlib.colormaps.get_cmap()`` or ``pyplot.get_cmap()`` instead.\n",
            "  cmap = cm.get_cmap('RdYlGn')  # Red-Yellow-Green colormap\n"
          ]
        },
        {
          "output_type": "execute_result",
          "data": {
            "text/plain": [
              "'enhanced_county_view.pdf'"
            ],
            "application/vnd.google.colaboratory.intrinsic+json": {
              "type": "string"
            }
          },
          "metadata": {},
          "execution_count": 28
        }
      ]
    },
    {
      "cell_type": "code",
      "source": [],
      "metadata": {
        "id": "pJBedftBgrZ-"
      },
      "execution_count": 25,
      "outputs": []
    }
  ]
}