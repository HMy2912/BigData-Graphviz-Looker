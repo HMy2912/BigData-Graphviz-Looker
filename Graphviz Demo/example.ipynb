{
 "cells": [
  {
   "cell_type": "code",
   "execution_count": 2,
   "id": "cdff31ba",
   "metadata": {},
   "outputs": [
    {
     "name": "stderr",
     "output_type": "stream",
     "text": [
      "c:\\Users\\029at\\AppData\\Local\\Programs\\Python\\Python310\\lib\\site-packages\\scipy\\__init__.py:155: UserWarning: A NumPy version >=1.18.5 and <1.25.0 is required for this version of SciPy (detected version 1.26.4\n",
      "  warnings.warn(f\"A NumPy version >={np_minversion} and <{np_maxversion}\"\n"
     ]
    },
    {
     "name": "stdout",
     "output_type": "stream",
     "text": [
      "Accuracy: 1.0\n"
     ]
    }
   ],
   "source": [
    "import pandas as pd\n",
    "from sklearn.model_selection import train_test_split\n",
    "from sklearn.svm import SVC\n",
    "from sklearn.metrics import accuracy_score\n",
    "\n",
    "# Đọc dữ liệu\n",
    "df = pd.read_csv('iris.csv')\n",
    "\n",
    "# Tách dữ liệu\n",
    "X = df[['sepal_length', 'sepal_width', 'petal_length', 'petal_width']]\n",
    "y = df['species']\n",
    "\n",
    "# Chia dữ liệu\n",
    "X_train, X_test, y_train, y_test = train_test_split(X, y, test_size=0.2, random_state=42)\n",
    "\n",
    "# Huấn luyện SVM\n",
    "svm = SVC(kernel='linear', random_state=42)\n",
    "svm.fit(X_train, y_train)\n",
    "\n",
    "# Tính độ chính xác\n",
    "y_pred = svm.predict(X_test)\n",
    "accuracy = accuracy_score(y_test, y_pred)\n",
    "print(f\"Accuracy: {accuracy}\")"
   ]
  },
  {
   "cell_type": "code",
   "execution_count": null,
   "id": "60dbf37a",
   "metadata": {},
   "outputs": [],
   "source": [
    "accuracy_df = pd.DataFrame({'Model': ['SVM'], 'Accuracy': [accuracy]})\n",
    "accuracy_df.to_csv('model_accuracy.csv', index=False)"
   ]
  },
  {
   "cell_type": "code",
   "execution_count": 4,
   "id": "e710d0b7",
   "metadata": {},
   "outputs": [],
   "source": [
    "import pandas as pd\n",
    "from sklearn.tree import DecisionTreeClassifier, export_graphviz\n",
    "\n",
    "# Đọc dữ liệu\n",
    "df = pd.read_csv('iris.csv')\n",
    "\n",
    "# Tách dữ liệu\n",
    "X = df[['sepal_length', 'sepal_width', 'petal_length', 'petal_width']]\n",
    "y = df['species']\n",
    "\n",
    "# Huấn luyện Decision Tree\n",
    "tree = DecisionTreeClassifier(random_state=42)\n",
    "tree.fit(X, y)\n",
    "\n",
    "# Xuất tệp DOT\n",
    "export_graphviz(tree, out_file='iris_tree.dot',\n",
    "                feature_names=['sepal_length', 'sepal_width', 'petal_length', 'petal_width'],\n",
    "                class_names=['Iris-setosa', 'Iris-versicolor', 'Iris-virginica'],\n",
    "                filled=True, rounded=True)"
   ]
  },
  {
   "cell_type": "code",
   "execution_count": null,
   "id": "4cf2fb2b",
   "metadata": {},
   "outputs": [],
   "source": [
    "import tarfile\n",
    "\n",
    "# Đường dẫn đến tệp tar.gz\n",
    "tar_file = \"facebook.tar.gz\"\n",
    "output_dir = \"facebook_data\"\n",
    "\n",
    "# Giải nén\n",
    "with tarfile.open(tar_file, \"r:gz\") as tar:\n",
    "    tar.extractall(path=output_dir)"
   ]
  },
  {
   "cell_type": "code",
   "execution_count": null,
   "id": "49effac2",
   "metadata": {},
   "outputs": [],
   "source": [
    "with open(\"facebook_combined.txt\", \"r\") as f:\n",
    "    for i in range(5):  # Đọc 5 dòng đầu\n",
    "        print(f.readline().strip())"
   ]
  },
  {
   "cell_type": "code",
   "execution_count": null,
   "id": "9ac3c696",
   "metadata": {},
   "outputs": [],
   "source": [
    "import pandas as pd\n",
    "\n",
    "# Đọc danh sách cạnh\n",
    "edges = pd.read_csv(\"facebook_combined.txt\", sep=\" \", header=None, names=[\"node1\", \"node2\"])\n",
    "\n",
    "# Số lượng cạnh\n",
    "num_edges = len(edges)\n",
    "print(f\"Số lượng cạnh: {num_edges}\")\n",
    "\n",
    "# Số lượng nút (nodes)\n",
    "num_nodes = len(set(edges[\"node1\"]).union(set(edges[\"node2\"])))\n",
    "print(f\"Số lượng nút: {num_nodes}\")"
   ]
  },
  {
   "cell_type": "code",
   "execution_count": 1,
   "id": "4d79ae8b",
   "metadata": {},
   "outputs": [
    {
     "data": {
      "text/plain": [
       "'social_network.png'"
      ]
     },
     "execution_count": 1,
     "metadata": {},
     "output_type": "execute_result"
    }
   ],
   "source": [
    "import pandas as pd\n",
    "from graphviz import Graph\n",
    "\n",
    "# Đọc danh sách cạnh\n",
    "edges = pd.read_csv(\"facebook_combined.txt\", sep=\" \", header=None, names=[\"node1\", \"node2\"])\n",
    "edges = edges.sample(n=30, random_state=42)\n",
    "# Tạo đồ thị với layout neato\n",
    "g = Graph(\"social_network\", format=\"png\", engine=\"neato\")\n",
    "\n",
    "# Thêm các cạnh vào đồ thị\n",
    "for _, row in edges.iterrows():\n",
    "    g.edge(str(row[\"node1\"]), str(row[\"node2\"]))\n",
    "\n",
    "# Lưu tệp DOT và tạo hình ảnh\n",
    "g.render(\"social_network\", view=False)"
   ]
  },
  {
   "cell_type": "code",
   "execution_count": null,
   "id": "37273181",
   "metadata": {},
   "outputs": [],
   "source": [
    "!pip install graphviz\n"
   ]
  }
 ],
 "metadata": {
  "kernelspec": {
   "display_name": "Python 3",
   "language": "python",
   "name": "python3"
  },
  "language_info": {
   "codemirror_mode": {
    "name": "ipython",
    "version": 3
   },
   "file_extension": ".py",
   "mimetype": "text/x-python",
   "name": "python",
   "nbconvert_exporter": "python",
   "pygments_lexer": "ipython3",
   "version": "3.10.5"
  }
 },
 "nbformat": 4,
 "nbformat_minor": 5
}
